{
  "nbformat": 4,
  "nbformat_minor": 0,
  "metadata": {
    "colab": {
      "name": "_05_Weather_RSS.ipynb",
      "provenance": [],
      "collapsed_sections": [],
      "authorship_tag": "ABX9TyMjz9ozNJ/j8NXEuYRmQKO9",
      "include_colab_link": true
    },
    "kernelspec": {
      "name": "python3",
      "display_name": "Python 3"
    },
    "language_info": {
      "name": "python"
    }
  },
  "cells": [
    {
      "cell_type": "markdown",
      "metadata": {
        "id": "view-in-github",
        "colab_type": "text"
      },
      "source": [
        "<a href=\"https://colab.research.google.com/github/rhdmsggg/bitcamp/blob/main/_05_Weather_RSS.ipynb\" target=\"_parent\"><img src=\"https://colab.research.google.com/assets/colab-badge.svg\" alt=\"Open In Colab\"/></a>"
      ]
    },
    {
      "cell_type": "code",
      "metadata": {
        "id": "hT3H0nKednnE"
      },
      "source": [
        "import urllib.request as req   # 웹데이터 가져오기\n",
        "from bs4 import BeautifulSoup   # 데이터 구조 분석하기"
      ],
      "execution_count": null,
      "outputs": []
    },
    {
      "cell_type": "code",
      "metadata": {
        "id": "w-CGawxCd3mu"
      },
      "source": [
        "# 기상청 RSS XML\n",
        "url = \"http://www.kma.go.kr/weather/forecast/mid-term-rss3.jsp?stnId=108\""
      ],
      "execution_count": null,
      "outputs": []
    },
    {
      "cell_type": "code",
      "metadata": {
        "colab": {
          "base_uri": "https://localhost:8080/"
        },
        "id": "X2lBky5GegAk",
        "outputId": "b6a8c0b2-a059-43cf-dfe5-e7f758fdc29d"
      },
      "source": [
        "# 1) 웹 데이터 가져오기\n",
        "res = req.urlopen(url)\n",
        "print(res)"
      ],
      "execution_count": null,
      "outputs": [
        {
          "output_type": "stream",
          "name": "stdout",
          "text": [
            "<http.client.HTTPResponse object at 0x7f3613c11050>\n"
          ]
        }
      ]
    },
    {
      "cell_type": "code",
      "metadata": {
        "id": "j6IBnYKqetu4"
      },
      "source": [
        "# 2) 분석하기\n",
        "#   a. request로 가져온 정보를 담은 객체\n",
        "#   b. html text 데이터\n",
        "soup = BeautifulSoup(res, 'html.parser')"
      ],
      "execution_count": null,
      "outputs": []
    },
    {
      "cell_type": "code",
      "metadata": {
        "colab": {
          "base_uri": "https://localhost:8080/",
          "height": 35
        },
        "id": "SsQDw9Zze0pT",
        "outputId": "af168818-acaa-4dfa-b458-7f2f58aa8d59"
      },
      "source": [
        "# title과 wf가져오기\n",
        "title = soup.find(\"title\").string\n",
        "title"
      ],
      "execution_count": null,
      "outputs": [
        {
          "output_type": "execute_result",
          "data": {
            "application/vnd.google.colaboratory.intrinsic+json": {
              "type": "string"
            },
            "text/plain": [
              "'기상청 육상 중기예보'"
            ]
          },
          "metadata": {},
          "execution_count": 26
        }
      ]
    },
    {
      "cell_type": "code",
      "metadata": {
        "colab": {
          "base_uri": "https://localhost:8080/",
          "height": 127
        },
        "id": "-BtbmqNwfpa8",
        "outputId": "30222935-9faf-43c5-bc7d-4c5224d1f701"
      },
      "source": [
        "wf = soup.find(\"wf\").string\n",
        "wf"
      ],
      "execution_count": null,
      "outputs": [
        {
          "output_type": "execute_result",
          "data": {
            "application/vnd.google.colaboratory.intrinsic+json": {
              "type": "string"
            },
            "text/plain": [
              "\"○ (강수) 13일(월) 제주도에, 14일(화)부터 15일(수)까지 남부지방과 제주도에, 15일(수) 오후부터 17일(금)까지 강원영동에 비가 오겠습니다.<br />○ (기온) 이번 예보기간 아침 기온은 16~22도로 어제(9일, 아침최저기온 17~21도)와 비슷하겠고, 낮 기온은 23~31도로 어제(9일, 낮최고기온 27~30도)와 비슷하거나 조금 낮겠습니다.<br />○ (해상) 14일(화)부터 16일(목) 대부분 해상에서 물결이 2.0~5.0m로 매우 높게 일겠습니다.<br /><br />* 또한, 이번 예보기간 제14호 태풍 '찬투'의 이동경로와 강도에 따라 강수의 변동성이 크겠으니, 앞으로 발표되는 기상정보를 참고하기 바랍니다.\""
            ]
          },
          "metadata": {},
          "execution_count": 29
        }
      ]
    },
    {
      "cell_type": "code",
      "metadata": {
        "id": "UPDTNjFEgB6k"
      },
      "source": [
        "#wf = wf.replace(\"\")\n",
        "wf = wf.replace(\"<br />\",\"\\n\")"
      ],
      "execution_count": null,
      "outputs": []
    },
    {
      "cell_type": "code",
      "metadata": {
        "id": "HS_fey4Zf8ml"
      },
      "source": [
        ""
      ],
      "execution_count": null,
      "outputs": []
    }
  ]
}