{
  "nbformat": 4,
  "nbformat_minor": 0,
  "metadata": {
    "colab": {
      "name": "_06_.ipynb",
      "provenance": [],
      "collapsed_sections": [],
      "authorship_tag": "ABX9TyNM7t82q5t/pNYnXXEhlP/R",
      "include_colab_link": true
    },
    "kernelspec": {
      "name": "python3",
      "display_name": "Python 3"
    },
    "language_info": {
      "name": "python"
    }
  },
  "cells": [
    {
      "cell_type": "markdown",
      "metadata": {
        "id": "view-in-github",
        "colab_type": "text"
      },
      "source": [
        "<a href=\"https://colab.research.google.com/github/rhdmsggg/bitcamp/blob/main/_06_.ipynb\" target=\"_parent\"><img src=\"https://colab.research.google.com/assets/colab-badge.svg\" alt=\"Open In Colab\"/></a>"
      ]
    },
    {
      "cell_type": "code",
      "metadata": {
        "id": "iu2hgukCiRHv"
      },
      "source": [
        "import urllib.request as req  \n",
        "from bs4 import BeautifulSoup"
      ],
      "execution_count": null,
      "outputs": []
    },
    {
      "cell_type": "code",
      "metadata": {
        "id": "jKphBAqJhrG9"
      },
      "source": [
        "html = \"\"\"\n",
        "<html>\n",
        "  <body>\n",
        "    <div id = \"meigen\">\n",
        "      <h1>경전</h1>\n",
        "      <ul class = \"items\">\n",
        "        <li>대학</li>\n",
        "        <li>논어</li>\n",
        "        <li>맹자</li>\n",
        "        <li>중용</li>\n",
        "        <li>채근담</li>\n",
        "      </ul>\n",
        "    </div>\n",
        "  </body>\n",
        "</html>\n",
        "\"\"\""
      ],
      "execution_count": null,
      "outputs": []
    },
    {
      "cell_type": "code",
      "metadata": {
        "id": "wGYkEB_iisx4"
      },
      "source": [
        "soup = BeautifulSoup(html, 'html.parser')"
      ],
      "execution_count": null,
      "outputs": []
    },
    {
      "cell_type": "code",
      "metadata": {
        "colab": {
          "base_uri": "https://localhost:8080/",
          "height": 35
        },
        "id": "EErOhhN5ixYL",
        "outputId": "9092200f-2501-4989-c542-30bbf3bee3bd"
      },
      "source": [
        "# 1개 요소만 추출\n",
        "h1 = soup.select_one(\"html > body > div#meigen > h1\").string\n",
        "# h1 = soup.select_one(\"div#meigen > h1\").string\n",
        "h1"
      ],
      "execution_count": null,
      "outputs": [
        {
          "output_type": "execute_result",
          "data": {
            "application/vnd.google.colaboratory.intrinsic+json": {
              "type": "string"
            },
            "text/plain": [
              "'경전'"
            ]
          },
          "metadata": {},
          "execution_count": 5
        }
      ]
    },
    {
      "cell_type": "code",
      "metadata": {
        "colab": {
          "base_uri": "https://localhost:8080/",
          "height": 35
        },
        "id": "wSJDcDc2jATj",
        "outputId": "da0ccc24-548c-4772-9d51-6762e07b93f2"
      },
      "source": [
        "# 1개 요소만 추출\n",
        "h1 = soup.select_one(\"div#meigen > h1\").string\n",
        "h1"
      ],
      "execution_count": null,
      "outputs": [
        {
          "output_type": "execute_result",
          "data": {
            "application/vnd.google.colaboratory.intrinsic+json": {
              "type": "string"
            },
            "text/plain": [
              "'경전'"
            ]
          },
          "metadata": {},
          "execution_count": 7
        }
      ]
    },
    {
      "cell_type": "code",
      "metadata": {
        "colab": {
          "base_uri": "https://localhost:8080/",
          "height": 35
        },
        "id": "dW-tHF5CkUYf",
        "outputId": "a1d03d39-af49-499b-92dd-98a63c25a170"
      },
      "source": [
        "# 1개 요소만 추출\n",
        "h1 = soup.select_one(\"#meigen > h1\").string\n",
        "h1"
      ],
      "execution_count": null,
      "outputs": [
        {
          "output_type": "execute_result",
          "data": {
            "application/vnd.google.colaboratory.intrinsic+json": {
              "type": "string"
            },
            "text/plain": [
              "'경전'"
            ]
          },
          "metadata": {},
          "execution_count": 8
        }
      ]
    },
    {
      "cell_type": "code",
      "metadata": {
        "colab": {
          "base_uri": "https://localhost:8080/"
        },
        "id": "p1MWi3FUknnt",
        "outputId": "f0974dc9-de52-49de-ddb7-08d3a50f753e"
      },
      "source": [
        "# 다수 요소를 가져올 떄\n",
        "li_list = soup.select(\"div#meigen > ul.items > li\")\n",
        "print(li_list)"
      ],
      "execution_count": null,
      "outputs": [
        {
          "output_type": "stream",
          "name": "stdout",
          "text": [
            "[<li>대학</li>, <li>논어</li>, <li>맹자</li>, <li>중용</li>, <li>채근담</li>]\n"
          ]
        }
      ]
    },
    {
      "cell_type": "code",
      "metadata": {
        "colab": {
          "base_uri": "https://localhost:8080/"
        },
        "id": "1hqmQkj4k6Ze",
        "outputId": "a25d5a02-b082-40a8-cd01-5e32cc9adb0a"
      },
      "source": [
        "print(\"[{}]\".format(h1))\n",
        "for i, book in enumerate(li_list):\n",
        "  print(str(i) + \":\" + book.string)"
      ],
      "execution_count": null,
      "outputs": [
        {
          "output_type": "stream",
          "name": "stdout",
          "text": [
            "[경전]\n",
            "0:대학\n",
            "1:논어\n",
            "2:맹자\n",
            "3:중용\n",
            "4:채근담\n"
          ]
        }
      ]
    },
    {
      "cell_type": "code",
      "metadata": {
        "id": "nlLaelWJlR5n"
      },
      "source": [
        ""
      ],
      "execution_count": null,
      "outputs": []
    }
  ]
}