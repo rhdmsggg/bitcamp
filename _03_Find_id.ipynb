{
  "nbformat": 4,
  "nbformat_minor": 0,
  "metadata": {
    "colab": {
      "name": "_03_Find_id.ipynb",
      "provenance": [],
      "collapsed_sections": [],
      "authorship_tag": "ABX9TyMB2LN4OJZVZxA/od10Z9ci",
      "include_colab_link": true
    },
    "kernelspec": {
      "name": "python3",
      "display_name": "Python 3"
    },
    "language_info": {
      "name": "python"
    }
  },
  "cells": [
    {
      "cell_type": "markdown",
      "metadata": {
        "id": "view-in-github",
        "colab_type": "text"
      },
      "source": [
        "<a href=\"https://colab.research.google.com/github/rhdmsggg/bitcamp/blob/main/_03_Find_id.ipynb\" target=\"_parent\"><img src=\"https://colab.research.google.com/assets/colab-badge.svg\" alt=\"Open In Colab\"/></a>"
      ]
    },
    {
      "cell_type": "code",
      "metadata": {
        "id": "cqr6t_FPUQBC"
      },
      "source": [
        "from bs4 import BeautifulSoup"
      ],
      "execution_count": null,
      "outputs": []
    },
    {
      "cell_type": "code",
      "metadata": {
        "id": "BQXC1q-HUVi6"
      },
      "source": [
        "# 1) 웹페이지에서 html을 가져왔다는 가정하에 html에 정보 저장\n",
        "html = \"\"\"\n",
        "<html>\n",
        "  <body>\n",
        "    <h1 id=\"title\">스크레이핑</h1>\n",
        "    <p>웹 페이지를 분석하는 것</p>\n",
        "    <p id=\"body\" >원하는 부분을 추출하는 것 </p>\n",
        "  </body>\n",
        "</html>\n",
        "\"\"\""
      ],
      "execution_count": null,
      "outputs": []
    },
    {
      "cell_type": "code",
      "metadata": {
        "id": "Z-GIQVyEUnrC"
      },
      "source": [
        "# 2) 분석\n",
        "soup = BeautifulSoup(html, 'html.parser')"
      ],
      "execution_count": null,
      "outputs": []
    },
    {
      "cell_type": "code",
      "metadata": {
        "id": "qBbv4_6_UtbY"
      },
      "source": [
        "# 3) id로 추출\n",
        "title = soup.find(id = \"title\")\n",
        "body = soup.find(id=\"body\")"
      ],
      "execution_count": null,
      "outputs": []
    },
    {
      "cell_type": "code",
      "metadata": {
        "colab": {
          "base_uri": "https://localhost:8080/"
        },
        "id": "xNyDD4FOU0x-",
        "outputId": "f051de1f-ea79-4f92-947c-889d395edf44"
      },
      "source": [
        "# 4) 출력\n",
        "print(title)\n",
        "print(body)\n",
        "print(\"#title=\"+title.string)\n",
        "print(\"#body=\"+body.string)"
      ],
      "execution_count": null,
      "outputs": [
        {
          "output_type": "stream",
          "name": "stdout",
          "text": [
            "<h1 id=\"title\">스크레이핑</h1>\n",
            "<p id=\"body\">원하는 부분을 추출하는 것 </p>\n",
            "#title=스크레이핑\n",
            "#body=원하는 부분을 추출하는 것 \n"
          ]
        }
      ]
    }
  ]
}