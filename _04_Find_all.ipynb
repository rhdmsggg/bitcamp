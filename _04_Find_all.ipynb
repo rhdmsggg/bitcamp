{
  "nbformat": 4,
  "nbformat_minor": 0,
  "metadata": {
    "colab": {
      "name": "_04_Find_all.ipynb",
      "provenance": [],
      "collapsed_sections": [],
      "authorship_tag": "ABX9TyO5LDPQgRxhK7gWNZD3dBv6",
      "include_colab_link": true
    },
    "kernelspec": {
      "name": "python3",
      "display_name": "Python 3"
    },
    "language_info": {
      "name": "python"
    }
  },
  "cells": [
    {
      "cell_type": "markdown",
      "metadata": {
        "id": "view-in-github",
        "colab_type": "text"
      },
      "source": [
        "<a href=\"https://colab.research.google.com/github/rhdmsggg/bitcamp/blob/main/_04_Find_all.ipynb\" target=\"_parent\"><img src=\"https://colab.research.google.com/assets/colab-badge.svg\" alt=\"Open In Colab\"/></a>"
      ]
    },
    {
      "cell_type": "code",
      "metadata": {
        "id": "JmNoTCU5Z_v6"
      },
      "source": [
        "from bs4 import BeautifulSoup"
      ],
      "execution_count": null,
      "outputs": []
    },
    {
      "cell_type": "code",
      "metadata": {
        "id": "vbrjEFF6aGiE"
      },
      "source": [
        "html = \"\"\"\n",
        "<html>\n",
        "  <body>\n",
        "    <ul>\n",
        "      <li><a href=\"https://www.naver.com\">Naver</a></li>\n",
        "      <li><a href=\"https://www.daum.net\">Daum</a></li>\n",
        "    </ul>\n",
        "    <p>안녕하세요</p>\n",
        "    <p>감사합니다</p>\n",
        "    <p>고맙습니다</p>\n",
        "    <p>사랑합니다</p>\n",
        "    <p>존경합니다</p>\n",
        "  </body>\n",
        "</html>\n",
        "\"\"\""
      ],
      "execution_count": null,
      "outputs": []
    },
    {
      "cell_type": "code",
      "metadata": {
        "id": "DcP2flC6b7zA"
      },
      "source": [
        "soup = BeautifulSoup(html, 'html.parser')"
      ],
      "execution_count": null,
      "outputs": []
    },
    {
      "cell_type": "code",
      "metadata": {
        "id": "3xVQ8bdBb_5X"
      },
      "source": [
        "# a 태그 요소를 모두 가져와라\n",
        "links = soup.find_all(\"a\")"
      ],
      "execution_count": null,
      "outputs": []
    },
    {
      "cell_type": "code",
      "metadata": {
        "colab": {
          "base_uri": "https://localhost:8080/"
        },
        "id": "7eXLgA5qcMf2",
        "outputId": "5539cf7e-a6bf-4cbd-ffb0-f846a2d8b929"
      },
      "source": [
        "print(links)"
      ],
      "execution_count": null,
      "outputs": [
        {
          "output_type": "stream",
          "name": "stdout",
          "text": [
            "[<a href=\"https://www.naver.com\">Naver</a>, <a href=\"https://www.daum.net\">Daum</a>]\n"
          ]
        }
      ]
    },
    {
      "cell_type": "code",
      "metadata": {
        "colab": {
          "base_uri": "https://localhost:8080/"
        },
        "id": "woM_XLjIcOTU",
        "outputId": "1fe53716-ab13-4a4e-e170-91c3ca1df145"
      },
      "source": [
        "p_list = soup.find_all(\"p\")\n",
        "print(p_list)"
      ],
      "execution_count": null,
      "outputs": [
        {
          "output_type": "stream",
          "name": "stdout",
          "text": [
            "[<p>안녕하세요</p>, <p>감사합니다</p>, <p>고맙습니다</p>, <p>사랑합니다</p>, <p>존경합니다</p>]\n"
          ]
        }
      ]
    },
    {
      "cell_type": "code",
      "metadata": {
        "colab": {
          "base_uri": "https://localhost:8080/"
        },
        "id": "U2EWjxagcp9U",
        "outputId": "4abcff86-128c-4b07-c353-8d83eebd095f"
      },
      "source": [
        "for a in links:\n",
        "  test = a.string\n",
        "  href = a.attrs[\"href\"]\n",
        "  print(\"{} : {}\".format(test, href))"
      ],
      "execution_count": null,
      "outputs": [
        {
          "output_type": "stream",
          "name": "stdout",
          "text": [
            "Naver : https://www.naver.com\n",
            "Daum : https://www.daum.net\n"
          ]
        }
      ]
    },
    {
      "cell_type": "code",
      "metadata": {
        "colab": {
          "base_uri": "https://localhost:8080/"
        },
        "id": "pWsLh1gIc-zr",
        "outputId": "14886c9e-5376-4d61-8fc7-63a497735aff"
      },
      "source": [
        "for p in p_list:\n",
        "  print(p.string)"
      ],
      "execution_count": null,
      "outputs": [
        {
          "output_type": "stream",
          "name": "stdout",
          "text": [
            "안녕하세요\n",
            "감사합니다\n",
            "고맙습니다\n",
            "사랑합니다\n",
            "존경합니다\n"
          ]
        }
      ]
    }
  ]
}